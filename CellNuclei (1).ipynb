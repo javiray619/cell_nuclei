{
 "cells": [
  {
   "cell_type": "code",
   "execution_count": 1,
   "metadata": {},
   "outputs": [],
   "source": [
    "import os\n",
    "import sys\n",
    "import random\n",
    "import warnings\n",
    "\n",
    "import numpy as np\n",
    "import pandas as pd\n",
    "\n",
    "import matplotlib.pyplot as plt\n",
    "\n",
    "from tqdm import tqdm\n",
    "from itertools import chain\n",
    "from skimage.io import imread, imshow, imread_collection, concatenate_images\n",
    "from skimage.transform import resize\n",
    "from skimage.morphology import label\n",
    "\n",
    "import torch\n",
    "import torch.nn as nn\n",
    "import torch.optim as optim\n",
    "from torch.utils.data import DataLoader\n",
    "from torch.utils.data import sampler\n",
    "\n",
    "import torchvision.datasets as dset\n",
    "import torchvision.transforms as T\n",
    "import torch.nn.functional as F\n",
    "\n",
    "from uNetModel import *"
   ]
  },
  {
   "cell_type": "code",
   "execution_count": 2,
   "metadata": {},
   "outputs": [
    {
     "name": "stdout",
     "output_type": "stream",
     "text": [
      "using device: cpu\n"
     ]
    }
   ],
   "source": [
    "USE_GPU = True\n",
    "dtype = torch.float32\n",
    "if USE_GPU and torch.cuda.is_available():\n",
    "    device = torch.device('cuda')\n",
    "else:\n",
    "    device = torch.device('cpu')\n",
    "\n",
    "# Constant to control how frequently we print train loss\n",
    "print_every = 1\n",
    "\n",
    "print('using device:', device)"
   ]
  },
  {
   "cell_type": "code",
   "execution_count": 3,
   "metadata": {},
   "outputs": [],
   "source": [
    "# Set some parameters\n",
    "IMG_WIDTH = 128\n",
    "IMG_HEIGHT = 128\n",
    "IMG_CHANNELS = 3\n",
    "PATH = './stage1_train/'\n",
    "epsilon = 1e-12 #For numerical stability\n",
    "\n",
    "warnings.filterwarnings('ignore', category=UserWarning, module='skimage')\n",
    "seed = 1\n",
    "random.seed = seed\n",
    "np.random.seed = seed"
   ]
  },
  {
   "cell_type": "code",
   "execution_count": 4,
   "metadata": {},
   "outputs": [
    {
     "name": "stderr",
     "output_type": "stream",
     "text": [
      "100%|██████████| 670/670 [01:18<00:00,  8.52it/s]\n"
     ]
    }
   ],
   "source": [
    "# Get IDs\n",
    "try:\n",
    "    ids = next(os.walk(PATH))[1]\n",
    "    #print(ids)\n",
    "except StopIteration:\n",
    "    pass # Some error handling here\n",
    "\n",
    "#print(\"HERE\")\n",
    "\n",
    "# Get and resize images and masks\n",
    "X = np.zeros((len(ids), IMG_HEIGHT, IMG_WIDTH, IMG_CHANNELS), dtype= np.float32)\n",
    "Y = np.zeros((len(ids), IMG_HEIGHT, IMG_WIDTH, 1), dtype= np.float32)\n",
    "#print('Getting and resizing train images and masks ... ')\n",
    "sys.stdout.flush()\n",
    "for n, id_ in tqdm(enumerate(ids), total=len(ids)):\n",
    "    path = PATH + id_\n",
    "    img = imread(path + '/images/' + id_ + '.png')[:,:,:IMG_CHANNELS]\n",
    "    img = resize(img, (IMG_HEIGHT, IMG_WIDTH), mode='constant', preserve_range=True)\n",
    "    X[n] = img\n",
    "    mask = np.zeros((IMG_HEIGHT, IMG_WIDTH, 1), dtype=np.float32)\n",
    "    for mask_file in next(os.walk(path + '/masks/'))[2]:\n",
    "        mask_ = imread(path + '/masks/' + mask_file)\n",
    "        mask_ = np.expand_dims(resize(mask_, (IMG_HEIGHT, IMG_WIDTH), mode='constant',\n",
    "                                      preserve_range=True), axis=-1)\n",
    "        mask = np.maximum(mask, mask_)\n",
    "    Y[n] = mask\n",
    "#print('Done!')\n"
   ]
  },
  {
   "cell_type": "code",
   "execution_count": 6,
   "metadata": {},
   "outputs": [
    {
     "name": "stderr",
     "output_type": "stream",
     "text": [
      "/home/shared/anaconda3/lib/python3.6/site-packages/skimage/io/_plugins/matplotlib_plugin.py:51: FutureWarning: Conversion of the second argument of issubdtype from `float` to `np.floating` is deprecated. In future, it will be treated as `np.float64 == np.dtype(float).type`.\n",
      "  out_of_range_float = (np.issubdtype(image.dtype, np.float) and\n"
     ]
    },
    {
     "data": {
      "image/png": "[encoded data removed]",
      "text/plain": [
       "<matplotlib.figure.Figure at 0x7f1fff3d1400>"
      ]
     },
     "metadata": {},
     "output_type": "display_data"
    },
    {
     "data": {
      "image/png": "[encoded data removed]",
      "text/plain": [
       "<matplotlib.figure.Figure at 0x7f1fff3174e0>"
      ]
     },
     "metadata": {},
     "output_type": "display_data"
    },
    {
     "name": "stdout",
     "output_type": "stream",
     "text": [
      "Shape of X_train =  (402, 3, 128, 128)\n",
      "Shape of Y_train =  (402, 1, 128, 128)\n",
      "Shape of X_val =  (134, 3, 128, 128)\n",
      "Shape of Y_val =  (134, 1, 128, 128)\n",
      "Shape of X_test =  (134, 3, 128, 128)\n",
      "Shape of Y_test =  (134, 1, 128, 128)\n"
     ]
    }
   ],
   "source": [
    "# Splitting data into train/val/test set in a 60/20/20 split\n",
    "shuffled_indices = np.random.permutation(len(X))\n",
    "\n",
    "train_indices = shuffled_indices[0:int(.6*(len(X)))]\n",
    "val_indices = shuffled_indices[int(.6*(len(X))): int(.8*(len(X)))]\n",
    "test_indices = shuffled_indices[int(.8*(len(X))):]\n",
    "\n",
    "X_train = X[train_indices]\n",
    "Y_train = Y[train_indices]\n",
    "Y_train[Y_train.nonzero()] = 1\n",
    "X_val = X[val_indices]\n",
    "Y_val = Y[val_indices]\n",
    "Y_val[Y_val.nonzero()] = 1\n",
    "X_test = X[test_indices]\n",
    "Y_test = Y[test_indices]\n",
    "Y_test[Y_test.nonzero()] = 1\n",
    "\n",
    "# Let us visualize what inputs outputs look like\n",
    "randIndex = random.randint(0, len(X_train))\n",
    "imshow(np.uint8(X_train[randIndex]))\n",
    "plt.show()\n",
    "imshow(np.squeeze(np.uint8(Y_train[randIndex])))\n",
    "plt.show()\n",
    "\n",
    "# X_train /= 256\n",
    "# X_val /= 256\n",
    "# X_test /= 256\n",
    "\n",
    "X_train = np.transpose(X_train, (0,3,1,2))\n",
    "Y_train = np.transpose(Y_train, (0,3,1,2))\n",
    "X_val = np.transpose(X_val, (0,3,1,2))\n",
    "Y_val = np.transpose(Y_val, (0,3,1,2))\n",
    "X_test = np.transpose(X_test, (0,3,1,2))\n",
    "Y_test = np.transpose(Y_test, (0,3,1,2))\n",
    "\n",
    "print('Shape of X_train = ', X_train.shape)\n",
    "print('Shape of Y_train = ', Y_train.shape)\n",
    "print('Shape of X_val = ', X_val.shape)\n",
    "print('Shape of Y_val = ', Y_val.shape)\n",
    "print('Shape of X_test = ', X_test.shape)\n",
    "print('Shape of Y_test = ', Y_test.shape)"
   ]
  },
  {
   "cell_type": "code",
   "execution_count": 7,
   "metadata": {},
   "outputs": [],
   "source": [
    "def showVisualComparisons(y, pred):\n",
    "    y_reshaped = np.transpose(y, (1,2,0))\n",
    "    pred_reshaped = np.transpose(pred, (1,2,0))\n",
    "    imshow(np.squeeze(np.uint8(y_reshaped)))\n",
    "    plt.show()\n",
    "    imshow(np.squeeze(np.uint8(pred_reshaped)))\n",
    "    plt.show()"
   ]
  },
  {
   "cell_type": "code",
   "execution_count": 8,
   "metadata": {},
   "outputs": [],
   "source": [
    "def calc_iou(preds, y):\n",
    "    preds = preds.view(preds.shape[0], -1)\n",
    "    y = y.view(y.shape[0], -1)\n",
    "    intersection = y.take(preds.nonzero()).sum()\n",
    "    union = y.sum() + (preds.type(torch.float)).sum() - intersection\n",
    "    return (intersection/(union + epsilon))"
   ]
  },
  {
   "cell_type": "code",
   "execution_count": 9,
   "metadata": {},
   "outputs": [],
   "source": [
    "def calculatePerformance(X_perf, Y_perf, model, mini_batch_size =  64,visual = False):\n",
    "    model.eval() #set model to evaluation mode\n",
    "    mean_iou = 0\n",
    "    num_batches = int(len(X_perf)/mini_batch_size)\n",
    "    num_remaining = len(X_perf) - num_batches *mini_batch_size\n",
    "    with torch.no_grad():\n",
    "        for i in range(num_batches):\n",
    "            x = torch.from_numpy(X_perf[i*mini_batch_size:(i+1)*mini_batch_size, :, :, :])\n",
    "            y = torch.from_numpy(Y_perf[i*mini_batch_size:(i+1)*mini_batch_size, :, :, :])\n",
    "            x = x.to(device = device, dtype = dtype)\n",
    "            y = y.to(device = device, dtype = dtype)\n",
    "            preds = model(x)\n",
    "            preds = (preds > 0.5)\n",
    "            mean_iou += float(mini_batch_size)*calc_iou(preds, y)\n",
    "        x = torch.from_numpy(X_perf[num_batches*mini_batch_size:, :, :, :])\n",
    "        y = torch.from_numpy(Y_perf[num_batches*mini_batch_size:, :, :, :])\n",
    "        x = x.to(device = device, dtype = dtype)\n",
    "        y = y.to(device = device, dtype = dtype)\n",
    "        preds = model(x)\n",
    "        preds = (preds > 0.5)\n",
    "        if visual:\n",
    "            ix = np.random.randint((num_batches*mini_batch_size), len(X_perf))\n",
    "            showVisualComparisons(Y_perf[ix, :, :, :], preds[(ix - (num_batches*mini_batch_size)), :, :, :].numpy())\n",
    "        mean_iou += float(num_remaining)*calc_iou(preds, y)\n",
    "    return (mean_iou/(float(len(X_perf))))"
   ]
  },
  {
   "cell_type": "code",
   "execution_count": 10,
   "metadata": {},
   "outputs": [],
   "source": [
    "def trainModel(model, x_train, y_train, optimizer, epochs = 1, mini_batch_size = 64, noVal = False):\n",
    "    model = model.to(device=device)  # move the model parameters to CPU/GPU\n",
    "    T = 0\n",
    "    num_batches = int(len(x_train)/mini_batch_size)\n",
    "    num_remaining = len(x_train) - num_batches *mini_batch_size\n",
    "    loss_history = []\n",
    "    for e in range(epochs):\n",
    "        for t in range(num_batches):\n",
    "            rand_indices = np.random.choice(len(x_train), mini_batch_size)\n",
    "            x = torch.from_numpy(x_train[rand_indices, :, :, :])\n",
    "            y = torch.from_numpy(y_train[rand_indices, :, :, :])\n",
    "            model.train()  # put model to training mode\n",
    "            x = x.to(device=device, dtype=dtype)  # move to device, e.g. GPU\n",
    "            y = y.to(device=device, dtype=dtype)\n",
    "\n",
    "            preds = model(x)\n",
    "            loss = F.binary_cross_entropy(preds, y)\n",
    "\n",
    "            # Zero out all of the gradients for the variables which the optimizer\n",
    "            # will update.\n",
    "            optimizer.zero_grad()\n",
    "\n",
    "            # This is the backwards pass: compute the gradient of the loss with\n",
    "            # respect to each  parameter of the model.\n",
    "            loss.backward()\n",
    "\n",
    "            # Actually update the parameters of the model using the gradients\n",
    "            # computed by the backwards pass.\n",
    "            optimizer.step()\n",
    "\n",
    "            if T % print_every == 0:\n",
    "                currLoss = loss.item()\n",
    "                loss_history.append(currLoss)\n",
    "                print('Epoch %d, Iteration %d, loss = %.4f' % (e, t, currLoss))\n",
    "            if (num_remaining <= 0 and t == (num_batches -1)):\n",
    "                iou = calculatePerformance(x_train, y_train, model)\n",
    "                print('Train Mean IOU at epoch %d is %.4f' % (e, iou))\n",
    "                if (noVal == False):\n",
    "                    iou = calculatePerformance(X_val, Y_val, model)\n",
    "                    print('Val Mean IOU at epoch %d is %.4f' % (e, iou))\n",
    "            T +=1\n",
    "        if num_remaining > 0:\n",
    "            rand_indices = np.random.choice(len(x_train), num_remaining)\n",
    "            x = torch.from_numpy(x_train[rand_indices, :, :, :])\n",
    "            y = torch.from_numpy(y_train[rand_indices, :, :, :])\n",
    "            model.train()  # put model to training mode\n",
    "            x = x.to(device=device, dtype=dtype)  # move to device, e.g. GPU\n",
    "            y = y.to(device=device, dtype=dtype)\n",
    "\n",
    "            preds = model(x)\n",
    "            loss = F.binary_cross_entropy(preds, y)\n",
    "\n",
    "            # Zero out all of the gradients for the variables which the optimizer\n",
    "            # will update.\n",
    "            optimizer.zero_grad()\n",
    "\n",
    "            # This is the backwards pass: compute the gradient of the loss with\n",
    "            # respect to each  parameter of the model.\n",
    "            loss.backward()\n",
    "\n",
    "            # Actually update the parameters of the model using the gradients\n",
    "            # computed by the backwards pass.\n",
    "            optimizer.step()\n",
    "            if T % print_every == 0:\n",
    "                currLoss = loss.item()\n",
    "                loss_history.append(currLoss)\n",
    "                print('Epoch %d, Iteration %d, loss = %.4f' % (e, num_batches, currLoss))\n",
    "            iou = calculatePerformance(x_train, y_train, model)\n",
    "            print('Train Mean IOU at epoch %d is %.4f' % (e, iou))\n",
    "            if (noVal == False):\n",
    "                iou = calculatePerformance(X_val, Y_val, model)\n",
    "                print('Val Mean IOU at epoch %d is %.4f' % (e, iou))\n",
    "            T +=1\n",
    "    return calculatePerformance(x_train, y_train, model),loss_history"
   ]
  },
  {
   "cell_type": "code",
   "execution_count": 11,
   "metadata": {},
   "outputs": [
    {
     "name": "stdout",
     "output_type": "stream",
     "text": [
      "Trying out learning rate of  0.0005\n",
      "Epoch 0, Iteration 0, loss = 8.9847\n",
      "Train Mean IOU at epoch 0 is 0.8378\n",
      "Epoch 1, Iteration 0, loss = 7.8963\n",
      "Train Mean IOU at epoch 1 is 0.8049\n",
      "Epoch 2, Iteration 0, loss = 7.1507\n",
      "Train Mean IOU at epoch 2 is 0.7720\n",
      "Epoch 3, Iteration 0, loss = 6.6537\n",
      "Train Mean IOU at epoch 3 is 0.7135\n",
      "Epoch 4, Iteration 0, loss = 4.4044\n",
      "Train Mean IOU at epoch 4 is 0.6698\n",
      "Trying out learning rate of  0.001\n",
      "Epoch 0, Iteration 0, loss = 8.9351\n",
      "Train Mean IOU at epoch 0 is 0.6970\n",
      "Epoch 1, Iteration 0, loss = 5.5240\n",
      "Train Mean IOU at epoch 1 is 0.6423\n",
      "Epoch 2, Iteration 0, loss = 4.1432\n",
      "Train Mean IOU at epoch 2 is 0.5303\n",
      "Epoch 3, Iteration 0, loss = 2.9940\n",
      "Train Mean IOU at epoch 3 is 0.4470\n",
      "Epoch 4, Iteration 0, loss = 2.7956\n",
      "Train Mean IOU at epoch 4 is 0.3764\n",
      "Trying out learning rate of  0.0015\n",
      "Epoch 0, Iteration 0, loss = 3.9075\n",
      "Train Mean IOU at epoch 0 is 0.2217\n",
      "Epoch 1, Iteration 0, loss = 2.9589\n",
      "Train Mean IOU at epoch 1 is 0.0845\n",
      "Epoch 2, Iteration 0, loss = 2.8334\n",
      "Train Mean IOU at epoch 2 is 0.0827\n",
      "Epoch 3, Iteration 0, loss = 2.6810\n",
      "Train Mean IOU at epoch 3 is 0.1116\n",
      "Epoch 4, Iteration 0, loss = 2.0101\n",
      "Train Mean IOU at epoch 4 is 0.2036\n"
     ]
    }
   ],
   "source": [
    "# Overfitting data first\n",
    "bestPerf = -1\n",
    "bestModel = None\n",
    "lrUsed = 0\n",
    "x_train = X_train[0:50, :, :, :]\n",
    "y_train = Y_train[0:50, :, :, :]\n",
    "for lr in [5e-4, 1e-3, 1.5e-3]:\n",
    "    print('Trying out learning rate of ', lr)\n",
    "    model = UNet()\n",
    "    optimizer = optim.Adam(model.parameters(), lr = lr)\n",
    "    modelPerf = trainModel(model, x_train, y_train, optimizer, epochs = 5, noVal = True)\n",
    "    if modelPerf[0] > bestPerf:\n",
    "        bestPerf = modelPerf[0]\n",
    "        bestModel = model\n",
    "        lrUsed = lr"
   ]
  },
  {
   "cell_type": "code",
   "execution_count": 12,
   "metadata": {},
   "outputs": [
    {
     "name": "stdout",
     "output_type": "stream",
     "text": [
      "Best learning rate used to train was  0.0005\n"
     ]
    },
    {
     "name": "stderr",
     "output_type": "stream",
     "text": [
      "/home/shared/anaconda3/lib/python3.6/site-packages/skimage/io/_plugins/matplotlib_plugin.py:51: FutureWarning: Conversion of the second argument of issubdtype from `float` to `np.floating` is deprecated. In future, it will be treated as `np.float64 == np.dtype(float).type`.\n",
      "  out_of_range_float = (np.issubdtype(image.dtype, np.float) and\n"
     ]
    },
    {
     "data": {
      "image/png": "[encoded data removed]",
      "text/plain": [
       "<matplotlib.figure.Figure at 0x7f201c191438>"
      ]
     },
     "metadata": {},
     "output_type": "display_data"
    },
    {
     "data": {
      "image/png": "[encoded data removed]",
      "text/plain": [
       "<matplotlib.figure.Figure at 0x7f1fff18d470>"
      ]
     },
     "metadata": {},
     "output_type": "display_data"
    },
    {
     "name": "stdout",
     "output_type": "stream",
     "text": [
      "Best train IOU =  tensor(0.6698)\n"
     ]
    },
    {
     "name": "stderr",
     "output_type": "stream",
     "text": [
      "/home/shared/anaconda3/lib/python3.6/site-packages/ipykernel_launcher.py:3: UserWarning: invalid index of a 0-dim tensor. This will be an error in PyTorch 0.5. Use tensor.item() to convert a 0-dim tensor to a Python number\n",
      "  This is separate from the ipykernel package so we can avoid doing imports until\n"
     ]
    }
   ],
   "source": [
    "# Let us visualize how different our predicted masks are\n",
    "print('Best learning rate used to train was ', lrUsed)\n",
    "print('Best train IOU = ', (calculatePerformance(x_train, y_train, bestModel, visual = True))[0])"
   ]
  },
  {
   "cell_type": "code",
   "execution_count": null,
   "metadata": {},
   "outputs": [],
   "source": []
  }
 ],
 "metadata": {
  "kernelspec": {
   "display_name": "Python 3",
   "language": "python",
   "name": "python3"
  },
  "language_info": {
   "codemirror_mode": {
    "name": "ipython",
    "version": 3
   },
   "file_extension": ".py",
   "mimetype": "text/x-python",
   "name": "python",
   "nbconvert_exporter": "python",
   "pygments_lexer": "ipython3",
   "version": "3.6.4"
  }
 },
 "nbformat": 4,
 "nbformat_minor": 2
}
